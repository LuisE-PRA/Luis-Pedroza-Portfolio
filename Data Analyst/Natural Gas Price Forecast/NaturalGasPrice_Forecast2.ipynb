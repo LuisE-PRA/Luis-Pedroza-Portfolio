{
 "cells": [
  {
   "cell_type": "code",
   "execution_count": null,
   "id": "b006b12b-5504-4496-85b4-de4e6c60ed1a",
   "metadata": {},
   "outputs": [],
   "source": [
    "# Imports\n",
    "import pandas as pd\n",
    "import matplotlib.pyplot as plt\n",
    "from statsmodels.tsa.seasonal import seasonal_decompose\n",
    "from statsmodels.tsa.stattools import adfuller\n",
    "from statsmodels.graphics.tsaplots import plot_acf, plot_pacf\n",
    "from statsmodels.tsa.statespace.sarimax import SARIMAX\n",
    "from statsmodels.tsa.arima.model import ARIMA\n",
    "import seaborn as sns\n",
    "import numpy as np\n",
    "\n",
    "# Load dataset\n",
    "df = pd.read_csv('C:/Users/LuisEduardo/OneDrive/Data analyst Portfolio/Natural Gas Forecast/daily_csv.csv')\n",
    "#df = pd.read_csv('C:/Users/LuisEduardo/OneDrive/Data analyst Portfolio/Natural Gas Forecast/Gas_Prices_SoCal.csv')\n",
    "\n",
    "\n",
    "# Display initial data\n",
    "df.tail()"
   ]
  },
  {
   "cell_type": "code",
   "execution_count": null,
   "id": "b29bf213-6c9e-423d-9f43-ad450f4f8ec4",
   "metadata": {},
   "outputs": [],
   "source": [
    "df.info()"
   ]
  },
  {
   "cell_type": "code",
   "execution_count": null,
   "id": "e291b338-5386-475b-8d72-fcff44651b6a",
   "metadata": {},
   "outputs": [],
   "source": [
    "df.isnull().sum()"
   ]
  },
  {
   "cell_type": "code",
   "execution_count": null,
   "id": "40e9756d-6365-4634-8e4d-e50208de02c6",
   "metadata": {},
   "outputs": [],
   "source": [
    "# Replace infinite values\n",
    "df['Price'].replace([np.inf, -np.inf], np.nan, inplace=True)\n",
    "\n",
    "# Dealing NaN values\n",
    "df['Price'].fillna(df['Price'].mean(), inplace = True)\n",
    "#df.dropna(subset=['Price'], inplace=True)"
   ]
  },
  {
   "cell_type": "code",
   "execution_count": null,
   "id": "28fb3f01-9e9d-4c8a-8006-554cd1f1004f",
   "metadata": {},
   "outputs": [],
   "source": [
    "# Plot histogram of price distribution\n",
    "sns.set_style('darkgrid')\n",
    "sns.set_color_codes(palette='dark')\n",
    "\n",
    "f, ax = plt.subplots(figsize=(9, 5))\n",
    "\n",
    "sns.histplot(df['Price'], color=\"m\", kde=True, ax=ax)\n",
    "ax.set(title=\"Histogram for SalePrice\", xlabel='Price', ylabel='Frequency')\n",
    "\n",
    "plt.show()"
   ]
  },
  {
   "cell_type": "code",
   "execution_count": null,
   "id": "61cb8b28-798c-4f3e-bc3f-77db7444b7d8",
   "metadata": {},
   "outputs": [],
   "source": [
    "# Convert 'Dates' column to datetime for better visualization\n",
    "df.rename(columns={'TRADE_DATE': 'Date'}, inplace=True)"
   ]
  },
  {
   "cell_type": "code",
   "execution_count": null,
   "id": "66160a04-4df5-4540-ac22-1ba4bb7995ca",
   "metadata": {},
   "outputs": [],
   "source": [
    "# Convert the 'DATE' column to datetime with the correct format\n",
    "df['Date'] = pd.to_datetime(df['Date'], format='%d/%m/%Y', dayfirst=True)"
   ]
  },
  {
   "cell_type": "code",
   "execution_count": null,
   "id": "fc60402e-a59b-474b-9dcd-1f98b252330f",
   "metadata": {},
   "outputs": [],
   "source": [
    "# Natural Gas prices over time\n",
    "plt.figure(figsize=(14, 6))\n",
    "\n",
    "sns.lineplot(x='Date', y='Price', data=df)\n",
    "\n",
    "plt.title('Natural Gas Prices Over Time - Daily')\n",
    "plt.xlabel('Date')\n",
    "plt.ylabel('Price')\n",
    "plt.grid(True)\n",
    "\n",
    "plt.xticks(rotation=45)\n",
    "\n",
    "plt.tight_layout()\n",
    "plt.show()"
   ]
  },
  {
   "cell_type": "code",
   "execution_count": null,
   "id": "69daf1e3-829e-47ad-b8ae-033e6bfaf7fa",
   "metadata": {},
   "outputs": [],
   "source": [
    "# Detect outliers\n",
    "def detect_outliers(df, n, features):\n",
    "\n",
    "    outlier_indices = []\n",
    "\n",
    "    for col in features:\n",
    "\n",
    "        Q1 = np.percentile(df[col], 25)\n",
    "        Q3 = np.percentile(df[col], 75)\n",
    "\n",
    "        IQR = Q3 - Q1\n",
    "        print('\\n',col)\n",
    "\n",
    "        outlier_step = 1.5 * IQR\n",
    "\n",
    "        outlier_list_col = df[(df[col] < Q1 - outlier_step) | (df[col] > Q3 + outlier_step)].index\n",
    "        print(outlier_list_col)\n",
    "        outlier_indices.extend(outlier_list_col)\n",
    "    \n",
    "    return outlier_indices"
   ]
  },
  {
   "cell_type": "code",
   "execution_count": null,
   "id": "7d9add99-ed78-4120-9e8d-8743491b9dbe",
   "metadata": {},
   "outputs": [],
   "source": [
    "# Remove outliers\n",
    "lof = ['Price']\n",
    "data = df[['Date','Price']]\n",
    "Outliers_to_drop = detect_outliers(data, 1, lof)"
   ]
  },
  {
   "cell_type": "code",
   "execution_count": null,
   "id": "88127bd4-0c65-4148-8cda-c58f86139f1d",
   "metadata": {},
   "outputs": [],
   "source": [
    "data.drop(Outliers_to_drop,inplace=True)\n",
    "data.reset_index(drop=True, inplace=True)"
   ]
  },
  {
   "cell_type": "code",
   "execution_count": null,
   "id": "b098e2ef-ed49-4654-8a1e-aff229433328",
   "metadata": {},
   "outputs": [],
   "source": [
    "y = df['Price']\n",
    "size = df.size\n",
    "print(str(y[Outliers_to_drop].size) + \"/\" + str(size) + \" data points droped.\")\n",
    "print(\"Turkey Method, \" + str(round(100-((y[Outliers_to_drop].size/size)*100),2)) +  \" % remaining data points from the Dataset.\")"
   ]
  },
  {
   "cell_type": "code",
   "execution_count": null,
   "id": "4739af6e-8859-4fa6-9ae7-980baf569b1c",
   "metadata": {},
   "outputs": [],
   "source": [
    "# # Natural Gas prices over time (without outliers)\n",
    "plt.figure(figsize=(14, 6))\n",
    "\n",
    "sns.lineplot(x='Date', y='Price', data=df)\n",
    "sns.lineplot(x='Date', y='Price', data=data)\n",
    "\n",
    "plt.title('Natural Gas Prices Over Time - removing outliers')\n",
    "plt.xlabel('Date')\n",
    "plt.ylabel('Price')\n",
    "plt.grid(True)\n",
    "\n",
    "plt.gca().xaxis.set_major_locator(plt.matplotlib.dates.YearLocator())  # Muestra cada año\n",
    "\n",
    "plt.xticks(rotation=45)\n",
    "\n",
    "plt.tight_layout()\n",
    "plt.show()"
   ]
  },
  {
   "cell_type": "markdown",
   "id": "49ae29d9",
   "metadata": {},
   "source": [
    "### Taking the monthly average, since the purpose is to forecast future monthly prices "
   ]
  },
  {
   "cell_type": "code",
   "execution_count": null,
   "id": "62ac6012-8673-4903-8e12-66c8c458419e",
   "metadata": {},
   "outputs": [],
   "source": [
    "# Create a new column with the format 'YYYY-MM'\n",
    "data['YEAR_MONTH'] = data['Date'].dt.to_period('M')\n",
    "\n",
    "# Group by the new column 'YEAR_MONTH' and calculate the average price per month\n",
    "monthly_avg_price = data.groupby('YEAR_MONTH')['Price'].agg(['mean','std']).reset_index()\n",
    "monthly_avg_price['cv'] = (monthly_avg_price['std']/monthly_avg_price['mean'])\n",
    "\n",
    "# Convert 'YEAR_MONTH' from Period to string for final presentation\n",
    "monthly_avg_price['YEAR_MONTH'] = monthly_avg_price['YEAR_MONTH'].astype(str)\n",
    "\n",
    "# Rename columns if necessary\n",
    "monthly_avg_price.columns = ['Month_Year', 'Average_Price', 'std', 'cv']\n",
    "monthly_avg_price['Month_Year'] = pd.to_datetime(monthly_avg_price['Month_Year'])"
   ]
  },
  {
   "cell_type": "code",
   "execution_count": null,
   "id": "63a17dc7-d022-4ebb-8e61-0a31b20ad5c4",
   "metadata": {},
   "outputs": [],
   "source": [
    "f, axes = plt.subplots(1, figsize=(15,5))\n",
    "\n",
    "sns.lineplot(x=\"Month_Year\", y=\"std\",label ='Std',data=monthly_avg_price)\n",
    "sns.lineplot(x=\"Month_Year\", y=\"cv\",label ='CV',data=monthly_avg_price)\n",
    "#sns.lineplot(x=\"Month_Year\", y=\"Average_Price\",label ='mean',data=monthly_avg_price)\n",
    "plt.ylabel('Measures')\n",
    "\n",
    "plt.title(\"Natural Gas - The Standard Deviation Monthly Prices\")\n",
    "\n",
    "plt.show()"
   ]
  },
  {
   "cell_type": "markdown",
   "id": "c6416534",
   "metadata": {},
   "source": [
    "The time series has a non-constant standard deviation over time."
   ]
  },
  {
   "cell_type": "code",
   "execution_count": null,
   "id": "b5139f2b-4544-4c09-ba5c-b8cb607de0aa",
   "metadata": {},
   "outputs": [],
   "source": [
    "# Decompose the time series to study its components\n",
    "decomposition = seasonal_decompose(monthly_avg_price['Average_Price'], period=12)  # Assuming yearly seasonality with monthly data\n",
    "\n",
    "# Plot decomposition\n",
    "fig, axes = plt.subplots(4, 1, figsize=(14, 10))\n",
    "\n",
    "labels = ['Original', 'Trend', 'Seasonal', 'Residual']\n",
    "components = [monthly_avg_price['Average_Price'], decomposition.trend, decomposition.seasonal, decomposition.resid]\n",
    "\n",
    "for i, ax in enumerate(axes):\n",
    "    ax.plot(monthly_avg_price['Month_Year'], components[i], label=labels[i])\n",
    "    ax.legend(loc='upper left')\n",
    "    ax.set_title(f\"{labels[i]} Component\")\n",
    "    ax.grid(True)\n",
    "\n",
    "plt.tight_layout()\n",
    "plt.show()"
   ]
  },
  {
   "cell_type": "markdown",
   "id": "2756d6b9",
   "metadata": {},
   "source": [
    "- **Original Component:** <br>\n",
    "This is the original time series as observed. <br>\n",
    "It shows variations and patterns over time from 1996 to 2024. <br>\n",
    "We note significant peaks around 2000, 2008, and 2020. <br>\n",
    "\n",
    "- **Trend Component:** <br>\n",
    "This component shows the long-term trend of the time series. <br>\n",
    "We see a steady increase from 1996 to about 2007, followed by a decrease until 2012. <br>\n",
    "After 2012, the trend is quite variable with a peak around 2020 followed by a decline. <br>\n",
    "This trend captures the large long-term variations without the seasonal fluctuations and noise. <br>\n",
    "\n",
    "- **Seasonal Component:** <br>\n",
    "This component shows recurring seasonal patterns that repeat in a regular cycle. <br>\n",
    "In this case, the cycles appear to be annual due to the regularity and constant repetition of the pattern. <br>\n",
    "Seasonal fluctuations are small compared to trend changes and residuals, indicating that seasonality has a minor but consistent impact. <br>\n",
    "\n",
    "- **Residual Component:** <br>\n",
    "Residuals represent random noise or any variation that cannot be explained by trend or seasonality. <br>\n",
    "We observe some notable peaks, especially around 2000, 2008 and 2020, suggesting irregular events or anomalies in those periods. <br>"
   ]
  },
  {
   "cell_type": "code",
   "execution_count": null,
   "id": "42e95f0c-d237-4867-8f0c-ac1c8adb1f89",
   "metadata": {},
   "outputs": [],
   "source": [
    "# Test stationarity of the series\n",
    "def is_stationary(timeseries):\n",
    "    \"\"\"Check stationarity using the Augmented Dickey-Fuller test.\"\"\"\n",
    "    dftest = adfuller(timeseries, autolag='AIC')\n",
    "    return dftest[1] <= 0.05\n",
    "# Check original and differenced series\n",
    "is_stationary_original = is_stationary(monthly_avg_price['Average_Price'])\n",
    "\n",
    "#We then create a differenced series to transform a potentially non-stationary series into a stationary one.\n",
    "monthly_avg_price.loc[:, 'First Difference'] = monthly_avg_price['Average_Price'].diff()   #calculates the difference between consecutive values in the Price series. This helps in stabilizing the mean of the time series by removing changes in the level of the series, thus potentially making it stationary.\n",
    "#monthly_avg_price.loc[:, 'Seasonal Difference'] = monthly_avg_price['Average_Price'].diff(periods=12) \n",
    "\n",
    "is_stationary_first_diff = is_stationary(monthly_avg_price['First Difference'].dropna())\n",
    "#is_stationary_season_diff = is_stationary(monthly_avg_price['Seasonal Difference'].dropna())\n",
    "is_stationary_original, is_stationary_first_diff\n"
   ]
  },
  {
   "cell_type": "markdown",
   "id": "e6a666fd",
   "metadata": {},
   "source": [
    "The Augmented Dickey-Fuller test indicates that the original saerie is not stationary. By differencing the series, it becomes stationary."
   ]
  },
  {
   "cell_type": "code",
   "execution_count": null,
   "id": "a699cde4-7663-47f7-b7a9-f99d98fb4899",
   "metadata": {},
   "outputs": [],
   "source": [
    "# Plot ACF and PACF for insights into AR and MA terms\n",
    "fig, axes = plt.subplots(1, 2, figsize=(14, 4))\n",
    "\n",
    "# Plot ACF\n",
    "plot_acf(monthly_avg_price['First Difference'].dropna(), lags=24, ax=axes[0])\n",
    "axes[0].set_title('ACF for First Differenced Series')\n",
    "\n",
    "# Plot PACF with method='ywm'\n",
    "plot_pacf(monthly_avg_price['First Difference'].dropna(), lags=24, ax=axes[1], method='ywm')\n",
    "axes[1].set_title('PACF for First Differenced Series')\n",
    "\n",
    "plt.tight_layout()\n",
    "\n",
    "plt.show()"
   ]
  },
  {
   "cell_type": "markdown",
   "id": "9d3a63ce",
   "metadata": {},
   "source": [
    "### Analysis of ACF and PACF Charts:\n",
    "\n",
    "\n",
    "**Selection of \\( p \\) (Autoregressive Order)**:\n",
    "- The PACF plot of the differenced series shows a significant spike at the first lag.\n",
    "- The significance at the first lag suggests that an AR(1) model is appropriate, implying \\( p = 1 \\).\n",
    "- No significant correlations are observed at subsequent lags, so a higher order is not necessary.\n",
    "\n",
    "**Selection of \\( d \\) (Differencing Order)**:\n",
    "- The time series exhibits a non-stationary trend, justifying the need for differencing.\n",
    "- A first-order differencing (\\( d = 1 \\)) is applied to achieve stationarity, confirmed by the stabilization of the mean and variance in the differenced series.\n",
    "\n",
    "**Selection of \\( q \\) (Moving Average Order)**:\n",
    "- The ACF plot of the differenced series shows that, after the first lag, all autocorrelations are within the confidence interval.\n",
    "- The lack of significant autocorrelations beyond the first lag indicates that an additional moving average component is unnecessary.\n",
    "- Therefore, \\( q = 0 \\) is selected to maintain model simplicity.\n",
    "\n",
    "### Final Model Configuration\n",
    "Based on the analysis of ACF and PACF, the final configuration of the SARIMAX model is:\n",
    "- **Order**: (1, 1, 0)\n",
    "- **Seasonal Order**: (1, 1, 1, 12)\n",
    "\n"
   ]
  },
  {
   "cell_type": "code",
   "execution_count": null,
   "id": "6bd96949",
   "metadata": {},
   "outputs": [],
   "source": [
    "# Fit SARIMA model\n",
    "\n",
    "model = SARIMAX(monthly_avg_price['Average_Price'], order=(1,1,0), seasonal_order=(1,1,1,12))\n",
    "#model = ARIMA(monthly_avg_price['Average_Price'], order=(1,1,0))\n",
    "results = model.fit()\n",
    "results.summary()\n"
   ]
  },
  {
   "cell_type": "code",
   "execution_count": null,
   "id": "841915aa",
   "metadata": {},
   "outputs": [],
   "source": [
    "# Compare actual and fitted values\n",
    "monthly_avg_price['Fitted'] = results.fittedvalues\n",
    "\n",
    "plt.figure(figsize=(14, 6))\n",
    "plt.plot(monthly_avg_price['Month_Year'], monthly_avg_price['Average_Price'], label='Actual', color='blue')\n",
    "plt.plot(monthly_avg_price['Month_Year'], monthly_avg_price['Fitted'], label='Fitted', color='red', linestyle='--')\n",
    "plt.title('Actual vs Fitted Natural Gas Prices')\n",
    "plt.xlabel('Date')\n",
    "plt.ylabel('Price')\n",
    "plt.legend()\n",
    "plt.grid(True)\n",
    "plt.tight_layout()\n",
    "plt.show()"
   ]
  },
  {
   "cell_type": "code",
   "execution_count": null,
   "id": "a6f49b91",
   "metadata": {},
   "outputs": [],
   "source": [
    "# Forecast for the next three years\n",
    "forecast = results.get_forecast(steps=12)\n",
    "forecast_index = pd.date_range(monthly_avg_price['Month_Year'].iloc[-1] + pd.Timedelta(days=1), periods=12, freq='M')\n",
    "forecast_series = pd.Series(forecast.predicted_mean.values, index=forecast_index)\n",
    "print(forecast_series)\n",
    "\n",
    "plt.figure(figsize=(14, 6))\n",
    "plt.plot(monthly_avg_price['Month_Year'], monthly_avg_price['Average_Price'], label='Historical', color='blue')\n",
    "plt.plot(forecast_index, forecast_series, label='Forecast', color='green', linestyle='--')\n",
    "#plt.fill_between(forecast_index, forecast.conf_int()['lower Prices'], forecast.conf_int()['upper Prices'], color='green', alpha=0.1)\n",
    "plt.title('Natural Gas Prices Forecast')\n",
    "plt.xlabel('Date')\n",
    "plt.ylabel('Price')\n",
    "plt.legend()\n",
    "plt.grid(True)\n",
    "plt.tight_layout()\n",
    "plt.show()"
   ]
  },
  {
   "cell_type": "markdown",
   "id": "b5580a32",
   "metadata": {},
   "source": [
    "### Cross Validation"
   ]
  },
  {
   "cell_type": "code",
   "execution_count": null,
   "id": "8f509e02",
   "metadata": {},
   "outputs": [],
   "source": [
    "from sklearn.model_selection import TimeSeriesSplit\n",
    "from sklearn.metrics import mean_squared_error\n",
    "\n",
    "tscv = TimeSeriesSplit(n_splits=5)"
   ]
  },
  {
   "cell_type": "code",
   "execution_count": null,
   "id": "739842c0",
   "metadata": {},
   "outputs": [],
   "source": [
    "# Define a function to train the model and calculate the MSE\n",
    "def train_sarimax(train, test):\n",
    "    model = SARIMAX(train, order=(1,1,0), seasonal_order=(1,1,1,12))\n",
    "    results = model.fit(disp=False)\n",
    "    predictions = results.forecast(steps=len(test))\n",
    "    mse = mean_squared_error(test, predictions)\n",
    "    return mse\n",
    "\n",
    "\n",
    "mse_scores = []\n",
    "\n",
    "for train_index, test_index in tscv.split(monthly_avg_price):\n",
    "    train, test = monthly_avg_price['Average_Price'].iloc[train_index], monthly_avg_price['Average_Price'].iloc[test_index]\n",
    "    mse = train_sarimax(train, test)\n",
    "    mse_scores.append(mse)\n",
    "\n",
    "    if len(train) < 2 or len(test) < 1:\n",
    "        continue  # Skip this fold if not enough data    \n",
    "\n",
    "print(\"MSE Scores for each fold: \", mse_scores)\n",
    "print(\"Average MSE: \", np.mean(mse_scores))"
   ]
  },
  {
   "cell_type": "markdown",
   "id": "929eb750",
   "metadata": {},
   "source": [
    "#### **Interpretation**\n",
    "\n",
    "**Variability in MSE Scores:**\n",
    "- There is considerable variability in the MSE values between the different folds. The first fold has a significantly higher MSE (11.95) compared to the fourth fold (0.28). This may indicate that the model has difficulty predicting certain parts of the data.<br>\n",
    "- Differences in MSE values may be due to seasonal changes, trends, or specific anomalous events in the data for the different folds.\n",
    "\n",
    "**Average MSE:**\n",
    "- The average MSE of 4.437 indicates the overall mean square error of the model across all folds. A lower MSE generally indicates better model performance. However, since MSE values vary widely between folds, it is important to consider the distribution of errors as well.\n",
    "\n",
    "**Model Evaluation:**\n",
    "- Overall Performance: Although the average MSE is not very high, the high variability suggests that the model may be performing well in some periods and not as well in others. This could be an indication that the SARIMAX model may not be fully capturing all features of the time series, such as more complex seasonal variations or abrupt changes in the series."
   ]
  },
  {
   "cell_type": "markdown",
   "id": "55dde369",
   "metadata": {},
   "source": [
    "### Review and Adjust Model Hyperparameters"
   ]
  },
  {
   "cell_type": "code",
   "execution_count": null,
   "id": "2a89c4bd",
   "metadata": {},
   "outputs": [],
   "source": [
    "from sklearn.model_selection import ParameterGrid\n",
    "\n",
    "# Define hyperparameter ranges for searching\n",
    "p = range(0, 3)\n",
    "d = range(0, 2)\n",
    "q = range(0, 3)\n",
    "P = range(0, 3)\n",
    "D = range(0, 2)\n",
    "Q = range(0, 3)\n",
    "m = [12]\n",
    "\n",
    "# Create a hyperparameter grid\n",
    "param_grid = ParameterGrid({\n",
    "    'order': [(x[0], x[1], x[2]) for x in zip(p, d, q)],\n",
    "    'seasonal_order': [(x[0], x[1], x[2], x[3]) for x in zip(P, D, Q, m)]\n",
    "})\n",
    "\n",
    "best_score = float('inf')\n",
    "best_params = None\n",
    "\n",
    "for params in param_grid:\n",
    "    model = SARIMAX(monthly_avg_price['Average_Price'], order=params['order'], seasonal_order=params['seasonal_order'])\n",
    "    results = model.fit(disp=False)\n",
    "    mse = mean_squared_error(monthly_avg_price['Average_Price'], results.fittedvalues)\n",
    "    if mse < best_score:\n",
    "        best_score = mse\n",
    "        best_params = params\n",
    "\n",
    "print(\"Best Params:\", best_params)"
   ]
  },
  {
   "cell_type": "markdown",
   "id": "9d928355",
   "metadata": {},
   "source": [
    "The optimal configuration found indicates that the model does not need to capture seasonal components (P, D, Q) and that a simple ARIMA (1, 1, 1) model is sufficient. This suggests that the model is probably not capturing well the seasonal patterns and variability of the data."
   ]
  },
  {
   "cell_type": "markdown",
   "id": "4fa55ba9",
   "metadata": {},
   "source": [
    "# Another time series implementation (Prophet)"
   ]
  },
  {
   "cell_type": "code",
   "execution_count": null,
   "id": "524e1d61",
   "metadata": {},
   "outputs": [],
   "source": [
    "from prophet import Prophet"
   ]
  },
  {
   "cell_type": "code",
   "execution_count": null,
   "id": "ce8f7dd7",
   "metadata": {},
   "outputs": [],
   "source": [
    "# Selecting a period of time if necesary\n",
    "data_p = data.copy()\n",
    "#data_p = data[data['Date'] >= '2000-01-01'].copy()\n",
    "#data_p.reset_index(drop=True, inplace=True)\n",
    "\n"
   ]
  },
  {
   "cell_type": "code",
   "execution_count": null,
   "id": "a10036be",
   "metadata": {},
   "outputs": [],
   "source": [
    "# Remove outliers\n",
    "#Outliers_to_drop = detect_outliers(data_p[['Date','Price']], 1, ['Price'])\n",
    "#data_p.drop(Outliers_to_drop,inplace=True)\n",
    "#data_p.reset_index(drop=True, inplace=True)"
   ]
  },
  {
   "cell_type": "code",
   "execution_count": null,
   "id": "4bcdc1ec",
   "metadata": {},
   "outputs": [],
   "source": [
    "prior_scale=0.02\n",
    "prices_prophet = data_p[['Date','Price']]"
   ]
  },
  {
   "cell_type": "code",
   "execution_count": null,
   "id": "b9a93cb8",
   "metadata": {},
   "outputs": [],
   "source": [
    "m = Prophet(changepoint_prior_scale=prior_scale, interval_width=0.95)\n",
    "prices_prophet.columns = ['ds','y']\n",
    "res = m.fit(prices_prophet)"
   ]
  },
  {
   "cell_type": "code",
   "execution_count": null,
   "id": "5c502fbe",
   "metadata": {},
   "outputs": [],
   "source": [
    "m = Prophet(changepoint_prior_scale=prior_scale)\n",
    "m.add_country_holidays(country_name='US')\n",
    "m.fit(prices_prophet)"
   ]
  },
  {
   "cell_type": "code",
   "execution_count": null,
   "id": "81f5450b",
   "metadata": {},
   "outputs": [],
   "source": [
    "m.train_holiday_names"
   ]
  },
  {
   "cell_type": "code",
   "execution_count": null,
   "id": "53d8c240",
   "metadata": {},
   "outputs": [],
   "source": [
    "future = m.make_future_dataframe(periods=365)\n",
    "future.tail()"
   ]
  },
  {
   "cell_type": "code",
   "execution_count": null,
   "id": "2abe8ff3",
   "metadata": {},
   "outputs": [],
   "source": [
    "forecast = m.predict(future)"
   ]
  },
  {
   "cell_type": "code",
   "execution_count": null,
   "id": "a2c62e33",
   "metadata": {},
   "outputs": [],
   "source": [
    "fig1 = m.plot(forecast)"
   ]
  },
  {
   "cell_type": "code",
   "execution_count": null,
   "id": "ff30c2bf",
   "metadata": {},
   "outputs": [],
   "source": [
    "\n",
    "fig2 = m.plot_components(forecast)"
   ]
  },
  {
   "cell_type": "code",
   "execution_count": null,
   "id": "15e5707e",
   "metadata": {},
   "outputs": [],
   "source": [
    "forecast_m = forecast[['ds','yhat']].copy()\n",
    "forecast_m\n",
    "\n",
    "# Create a new column with the format 'YYYYY-MM'.\n",
    "forecast_m['YEAR_MONTH'] = forecast_m['ds'].dt.to_period('M')\n",
    "\n",
    "forecast_m = forecast_m.groupby('YEAR_MONTH')['yhat'].mean().reset_index()\n",
    "forecast_m"
   ]
  },
  {
   "cell_type": "code",
   "execution_count": null,
   "id": "3af27a9e",
   "metadata": {},
   "outputs": [],
   "source": [
    "\n",
    "forecast_series = forecast_m[forecast_m['YEAR_MONTH'] > monthly_avg_price['Month_Year'].iloc[-1].to_period('M')]['yhat']\n",
    "forecast_series.index = forecast_index.values\n",
    "print(forecast_series)\n",
    "\n",
    "\n",
    "combined_dates = pd.concat([monthly_avg_price['Month_Year'], pd.Series(forecast_index)])\n",
    "combined_prices = pd.concat([monthly_avg_price['Average_Price'], forecast_series])\n",
    "\n",
    "plt.figure(figsize=(14, 6))\n",
    "\n",
    "# Graficar datos históricos\n",
    "plt.plot(combined_dates[:len(monthly_avg_price)], combined_prices[:len(monthly_avg_price)], label='Historical', color='blue')\n",
    "\n",
    "# Graficar datos de pronóstico\n",
    "plt.plot(combined_dates[len(monthly_avg_price)-1:], combined_prices[len(monthly_avg_price)-1:], label='Forecast', color='green', linestyle='--')\n",
    "\n",
    "plt.title('Natural Gas Prices Forecast')\n",
    "plt.xlabel('Date')\n",
    "plt.ylabel('Price')\n",
    "plt.legend()\n",
    "plt.grid(True)\n",
    "plt.tight_layout()\n",
    "plt.show()\n"
   ]
  },
  {
   "cell_type": "markdown",
   "id": "263d5e52",
   "metadata": {},
   "source": [
    "### Cross Validation"
   ]
  },
  {
   "cell_type": "code",
   "execution_count": null,
   "id": "d26c5335",
   "metadata": {},
   "outputs": [],
   "source": [
    "from prophet.diagnostics import performance_metrics\n",
    "from prophet.diagnostics import cross_validation"
   ]
  },
  {
   "cell_type": "code",
   "execution_count": null,
   "id": "d8b19e4a",
   "metadata": {},
   "outputs": [],
   "source": [
    "df_cv = cross_validation(m, initial='1460 days', period='180 days', horizon = '365 days')"
   ]
  },
  {
   "cell_type": "code",
   "execution_count": null,
   "id": "84e2bc7e",
   "metadata": {},
   "outputs": [],
   "source": [
    "df_p = performance_metrics(df_cv)\n",
    "df_p.head()"
   ]
  },
  {
   "cell_type": "code",
   "execution_count": null,
   "id": "18b7d9b9",
   "metadata": {},
   "outputs": [],
   "source": [
    "from prophet.plot import plot_cross_validation_metric\n",
    "fig = plot_cross_validation_metric(df_cv, metric='mape')"
   ]
  },
  {
   "cell_type": "code",
   "execution_count": null,
   "id": "b7179bef",
   "metadata": {},
   "outputs": [],
   "source": [
    "fig = plot_cross_validation_metric(df_cv, metric='mdape')"
   ]
  },
  {
   "cell_type": "code",
   "execution_count": null,
   "id": "1933c32c",
   "metadata": {},
   "outputs": [],
   "source": [
    "fig = plot_cross_validation_metric(df_cv, metric='rmse')"
   ]
  }
 ],
 "metadata": {
  "kernelspec": {
   "display_name": "Python 3 (ipykernel)",
   "language": "python",
   "name": "python3"
  },
  "language_info": {
   "codemirror_mode": {
    "name": "ipython",
    "version": 3
   },
   "file_extension": ".py",
   "mimetype": "text/x-python",
   "name": "python",
   "nbconvert_exporter": "python",
   "pygments_lexer": "ipython3",
   "version": "3.11.7"
  }
 },
 "nbformat": 4,
 "nbformat_minor": 5
}
